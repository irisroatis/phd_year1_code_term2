{
 "cells": [
  {
   "cell_type": "code",
   "execution_count": 18,
   "id": "ae834709",
   "metadata": {},
   "outputs": [
    {
     "data": {
      "text/plain": [
       "array([ 2.4,  3.4,  4.4,  5.4,  6.4,  7.4,  8.4,  9.4, 10.4])"
      ]
     },
     "execution_count": 18,
     "metadata": {},
     "output_type": "execute_result"
    }
   ],
   "source": [
    "import numpy as np\n",
    "bin_size = 1\n",
    "\n",
    "mi = 2.5\n",
    "ma = 10.3\n",
    "\n",
    "start = (mi + ma)/2\n",
    "\n",
    "bins_right = [start]\n",
    "current_right = 1.0 * start\n",
    "while current_right  < ma:\n",
    "    current_right += bin_size\n",
    "    bins_right.append(current_right)\n",
    "\n",
    "bins_left = []\n",
    "current_left = 1.0 * start\n",
    "while current_left  > mi:\n",
    "    current_left -= bin_size\n",
    "    bins_left.append(current_left)\n",
    "\n",
    "np.concatenate((bins_left[::-1],bins_right))"
   ]
  },
  {
   "cell_type": "code",
   "execution_count": 12,
   "id": "35bf9a39",
   "metadata": {},
   "outputs": [
    {
     "data": {
      "text/plain": [
       "[6.4, 7.4, 8.4, 9.4, 10.4]"
      ]
     },
     "execution_count": 12,
     "metadata": {},
     "output_type": "execute_result"
    }
   ],
   "source": [
    "bins_right"
   ]
  },
  {
   "cell_type": "code",
   "execution_count": 32,
   "id": "e2c6a8df",
   "metadata": {},
   "outputs": [
    {
     "data": {
      "text/plain": [
       "array([[ 0.47964407,  0.74547007],\n",
       "       [ 1.08312846,  1.26104046],\n",
       "       [ 1.04533715, -0.58668592],\n",
       "       [-0.52986494,  0.95360013],\n",
       "       [ 1.24917126,  1.78954834],\n",
       "       [ 0.91495725, -0.69548636],\n",
       "       [ 0.6975406 , -0.47261958],\n",
       "       [-0.28790159,  0.77044641],\n",
       "       [-0.19931642,  2.28720049],\n",
       "       [ 0.94760943,  2.3865567 ]])"
      ]
     },
     "execution_count": 32,
     "metadata": {},
     "output_type": "execute_result"
    }
   ],
   "source": [
    "import random\n",
    "\n",
    "def generating_test_data(how_many_times_repeat, iterations, mu1, sigma1, mu2, \n",
    "                         sigma2, plot_classes = False):\n",
    "\n",
    "    dim = len(mu1)\n",
    "    testing_data=[]\n",
    "    belonging_classes=[]\n",
    "\n",
    "    for repeat in range(how_many_times_repeat):\n",
    "\n",
    "        random_simulation = np.zeros((iterations,dim))\n",
    "        which_class_list = np.zeros((iterations,))\n",
    "        \n",
    "        for itera in range(iterations):\n",
    "\n",
    "            which_normal = random.randint(0,1)\n",
    "            if dim == 1:\n",
    "                if which_normal == 0:\n",
    "                    random_simulation[itera,] = np.random.normal(mu1, sigma1)\n",
    "                else:\n",
    "                    random_simulation[itera,] = np.random.normal(mu2, sigma2)\n",
    "            else:\n",
    "                if which_normal == 0:\n",
    "                    random_simulation[itera,] = np.random.multivariate_normal(mu1, sigma1)\n",
    "                else:\n",
    "                    random_simulation[itera,] = np.random.multivariate_normal(mu2, sigma2)\n",
    "            which_class_list[itera,] = which_normal\n",
    "        \n",
    "        testing_data.append(random_simulation)\n",
    "        belonging_classes.append(which_class_list)\n",
    "      \n",
    "    \n",
    "    return testing_data, belonging_classes\n",
    "    \n",
    "testing_data, belonging_classes = generating_test_data(1, 10, [0,0], np.array(([1,0],[0,1])),[1,1], np.array(([1,0],[0,1])))\n",
    "testing_data[0]"
   ]
  },
  {
   "cell_type": "code",
   "execution_count": 33,
   "id": "dc4004bb",
   "metadata": {},
   "outputs": [
    {
     "data": {
      "text/plain": [
       "array([ 0.47964407,  1.08312846,  1.04533715, -0.52986494,  1.24917126,\n",
       "        0.91495725,  0.6975406 , -0.28790159, -0.19931642,  0.94760943])"
      ]
     },
     "execution_count": 33,
     "metadata": {},
     "output_type": "execute_result"
    }
   ],
   "source": [
    "testing_data[0][:,0]"
   ]
  },
  {
   "cell_type": "code",
   "execution_count": null,
   "id": "277fe363",
   "metadata": {},
   "outputs": [],
   "source": []
  }
 ],
 "metadata": {
  "kernelspec": {
   "display_name": "Python 3 (ipykernel)",
   "language": "python",
   "name": "python3"
  },
  "language_info": {
   "codemirror_mode": {
    "name": "ipython",
    "version": 3
   },
   "file_extension": ".py",
   "mimetype": "text/x-python",
   "name": "python",
   "nbconvert_exporter": "python",
   "pygments_lexer": "ipython3",
   "version": "3.9.13"
  }
 },
 "nbformat": 4,
 "nbformat_minor": 5
}
